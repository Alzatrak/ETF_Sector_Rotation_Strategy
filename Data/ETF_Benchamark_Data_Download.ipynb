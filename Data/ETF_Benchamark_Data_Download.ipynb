import yfinance as yf
import pandas as pd

def download_data(tickers, start, end):
    historical_data = pd.DataFrame()

    for ticker in tickers:
        try:
            # Download historical data from Yahoo Finance
            data = yf.download(ticker, start=start, end=end)
            
            # Add a column with the ticker symbol
            data['Ticker'] = ticker
            
            # Reset index and add date column
            data = data.reset_index()
            
            # Concatenate data to the main DataFrame
            historical_data = pd.concat([historical_data, data])
            
        except Exception as e:
            print(f'Error downloading data for {ticker}: {str(e)}')

    return historical_data

# Define tickers and date range
tickers = ["XLE", "XLB", "XLI", "XLK", "XLF", "XLP", "XLY", "XLV", "XLU", "XLRE", "XLC", "SPY"]  
start_date = '2000-01-01'
end_date = '2024-01-01'

# Download historical data
ETF_Historical_Prices = download_data(tickers, start_date, end_date)

# Save data to a CSV file (optional)
ETF_Historical_Prices.to_csv('ETF_Historical_Prices.csv', index=False)
