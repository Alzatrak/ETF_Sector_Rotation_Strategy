{
 "cells": [
  {
   "cell_type": "code",
   "execution_count": 6,
   "id": "a29d96eb",
   "metadata": {},
   "outputs": [
    {
     "name": "stderr",
     "output_type": "stream",
     "text": [
      "[*********************100%%**********************]  1 of 1 completed\n",
      "[*********************100%%**********************]  1 of 1 completed\n",
      "[*********************100%%**********************]  1 of 1 completed\n",
      "[*********************100%%**********************]  1 of 1 completed\n",
      "[*********************100%%**********************]  1 of 1 completed\n",
      "[*********************100%%**********************]  1 of 1 completed\n",
      "[*********************100%%**********************]  1 of 1 completed\n",
      "[*********************100%%**********************]  1 of 1 completed\n",
      "[*********************100%%**********************]  1 of 1 completed\n",
      "[*********************100%%**********************]  1 of 1 completed\n",
      "[*********************100%%**********************]  1 of 1 completed\n"
     ]
    }
   ],
   "source": [
    "import pandas as pd\n",
    "import yfinance as yf\n",
    "\n",
    "def download_data(tickers, start, end):\n",
    "    historical_data = pd.DataFrame()\n",
    "\n",
    "    for ticker in tickers:\n",
    "        try:\n",
    "            # Download historical data from Yahoo Finance\n",
    "            data = yf.download(ticker, start=start, end=end)\n",
    "            \n",
    "            # Add a column with the ticker symbol\n",
    "            data['Ticker'] = ticker\n",
    "            \n",
    "            # Reset index and add date column\n",
    "            data = data.reset_index()\n",
    "            \n",
    "            # Concatenate data to the main DataFrame\n",
    "            historical_data = pd.concat([historical_data, data])\n",
    "            \n",
    "        except Exception as Error:\n",
    "            print(f'Error downloading data for {ticker}: {str(e)}')\n",
    "\n",
    "    return historical_data\n",
    "\n",
    "# Define tickers and date range\n",
    "tickers = [\"XLE\", \"XLB\", \"XLI\", \"XLK\", \"XLF\", \"XLP\", \"XLY\", \"XLV\", \"XLU\", \"XLRE\", \"XLC\"]\n",
    "start_date = '2000-01-01'\n",
    "end_date = '2024-01-01'\n",
    "\n",
    "# Download historical data\n",
    "price_history = download_data(tickers, start_date, end_date)\n",
    "\n",
    "price_history = price_history[['Date', 'Close', 'Ticker']]\n",
    "\n",
    "# Pivota el DataFrame\n",
    "price_history = price_history.pivot(index='Date', columns='Ticker', values='Close')\n",
    "\n",
    "# Save data to a CSV file\n",
    "price_history.to_csv('price_history.csv', index=False)"
   ]
  },
  {
   "cell_type": "code",
   "execution_count": null,
   "id": "085d894b",
   "metadata": {},
   "outputs": [],
   "source": []
  }
 ],
 "metadata": {
  "kernelspec": {
   "display_name": "Python 3 (ipykernel)",
   "language": "python",
   "name": "python3"
  },
  "language_info": {
   "codemirror_mode": {
    "name": "ipython",
    "version": 3
   },
   "file_extension": ".py",
   "mimetype": "text/x-python",
   "name": "python",
   "nbconvert_exporter": "python",
   "pygments_lexer": "ipython3",
   "version": "3.9.12"
  }
 },
 "nbformat": 4,
 "nbformat_minor": 5
}
